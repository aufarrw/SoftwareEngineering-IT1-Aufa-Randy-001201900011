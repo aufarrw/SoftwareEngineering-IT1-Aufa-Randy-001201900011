{
  "nbformat": 4,
  "nbformat_minor": 0,
  "metadata": {
    "colab": {
      "name": "tugas1.ipynb",
      "provenance": [],
      "collapsed_sections": []
    },
    "kernelspec": {
      "name": "python3",
      "display_name": "Python 3"
    },
    "language_info": {
      "name": "python"
    }
  },
  "cells": [
    {
      "cell_type": "code",
      "metadata": {
        "id": "XHMQYbZbN11S"
      },
      "source": [
        "#variable\n",
        "\n",
        "a = 2 # integer\n",
        "hewan = \"gajah\" # String\n",
        "#Untuk yang dasarnya tidak ada yang namanya char\n",
        "b = 'A' # String\n",
        "c = True # Boolean\n",
        "d = False # Boolean\n",
        "e = 2.0 # Float\n",
        "f = [] # List / Array\n",
        "g = {} # Dictionary\n",
        "h = () # Tuple"
      ],
      "execution_count": null,
      "outputs": []
    },
    {
      "cell_type": "code",
      "metadata": {
        "id": "r9YKu3URSmkg"
      },
      "source": [
        "print(b)\n",
        "print(a)\n",
        "print(\"Nama hewannya adalah: \" + hewan)\n",
        "print(\"Nama hewannya adalah: {}\".format(a))\n",
        "print(\"Nama: {}, Umur: {}\".format(\"Aufa\", 18))"
      ],
      "execution_count": null,
      "outputs": []
    },
    {
      "cell_type": "code",
      "metadata": {
        "id": "6_5mDnZzUI6k"
      },
      "source": [
        "Student_Name = [\"Rizal\", \"Rayhan\", \"Resha\", \"Juven\", \"Aufa\"]\n",
        "print(Student_Name[0])\n",
        "print(Student_Name[1])\n",
        "print(Student_Name[2])\n",
        "print(Student_Name[-2:])\n",
        "Student_Name.append(\"dodo\")\n",
        "print(Student_Name)"
      ],
      "execution_count": null,
      "outputs": []
    },
    {
      "cell_type": "code",
      "metadata": {
        "colab": {
          "base_uri": "https://localhost:8080/"
        },
        "id": "KkHxj78tWJIZ",
        "outputId": "5da941e1-1ad7-4652-988b-e11e2d91d39c"
      },
      "source": [
        "List = [\"A\", \"B\", \"C\"]\n",
        "print(\"ini huruf {}\".format(List[0]))"
      ],
      "execution_count": 1,
      "outputs": [
        {
          "output_type": "stream",
          "name": "stdout",
          "text": [
            "ini huruf A\n"
          ]
        }
      ]
    }
  ]
}